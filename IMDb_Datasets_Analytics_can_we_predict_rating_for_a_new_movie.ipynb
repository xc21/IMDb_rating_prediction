{
  "cells": [
    {
      "cell_type": "markdown",
      "metadata": {
        "id": "-sh2So3iuNan"
      },
      "source": [
        "In this notebook, I will be doing insight analytics on IMDb data set and implementing machine learning models to predict the average ratings. The notebook has been divided into the following sections:\n",
        "\n",
        "1. Preprocessing & EDA\n",
        "2. Modelling\n",
        "3. Key Takeaways from the Analysis\n",
        "4. Future Plan of Actions"
      ]
    },
    {
      "cell_type": "markdown",
      "metadata": {
        "id": "s2CChE-0ymKG"
      },
      "source": [
        "## **1. Preprocessing & EDA**"
      ]
    },
    {
      "cell_type": "markdown",
      "metadata": {
        "id": "-FA8S6ZjFV48"
      },
      "source": [
        "In this section, I will read in relevant dataframes separately, perform explorative analysis, create new features as needed and then join them together. Below is a quick description of the preprocessing I have performed for each table. \n",
        "\n"
      ]
    },
    {
      "cell_type": "code",
      "execution_count": null,
      "metadata": {
        "colab": {
          "base_uri": "https://localhost:8080/"
        },
        "id": "FisdrDJgWe0s",
        "outputId": "e111632e-802f-4afd-e0c6-52fbb4f36d5e"
      },
      "outputs": [
        {
          "output_type": "stream",
          "name": "stdout",
          "text": [
            "Requirement already satisfied: pyspark in /usr/local/lib/python3.7/dist-packages (3.2.1)\n",
            "Requirement already satisfied: py4j==0.10.9.3 in /usr/local/lib/python3.7/dist-packages (from pyspark) (0.10.9.3)\n"
          ]
        }
      ],
      "source": [
        "!pip install pyspark"
      ]
    },
    {
      "cell_type": "code",
      "execution_count": null,
      "metadata": {
        "colab": {
          "base_uri": "https://localhost:8080/"
        },
        "id": "YvYM_ag2Wh0t",
        "outputId": "98c2abef-e605-4f3e-e0c9-2abf9b14e9d7"
      },
      "outputs": [
        {
          "output_type": "stream",
          "name": "stdout",
          "text": [
            "Drive already mounted at /content/drive; to attempt to forcibly remount, call drive.mount(\"/content/drive\", force_remount=True).\n"
          ]
        }
      ],
      "source": [
        "from google.colab import drive\n",
        "drive.mount('/content/drive')\n"
      ]
    },
    {
      "cell_type": "code",
      "execution_count": null,
      "metadata": {
        "id": "2pGwQeqJWmnO"
      },
      "outputs": [],
      "source": [
        "import pyspark\n",
        "from pyspark.sql import SparkSession\n",
        "from pyspark.sql.functions import *\n",
        "from pyspark.sql.types import *\n",
        "import pandas as pd\n",
        "import matplotlib.pyplot as plt\n",
        "import seaborn as sns\n",
        "import numpy as np\n",
        "from pyspark.ml.regression import IsotonicRegression\n",
        "\n",
        "\n",
        "spark = SparkSession.builder.appName('Audible').getOrCreate()\n"
      ]
    },
    {
      "cell_type": "code",
      "execution_count": null,
      "metadata": {
        "id": "0gabN-aY57Ky"
      },
      "outputs": [],
      "source": [
        "df_ratings = spark.read.csv('/content/drive/MyDrive/Audible/data/title.ratings.tsv.gz', sep=r'\\t', header=True,inferSchema=True)\n",
        "df_name_basics = spark.read.csv('/content/drive/MyDrive/Audible/data/name.basics.tsv.gz', sep=r'\\t', header=True,inferSchema=True)\n",
        "df_title_basics = spark.read.csv('/content/drive/MyDrive/Audible/data/title.basics.tsv.gz', sep=r'\\t', header=True,inferSchema=True)\n",
        "df_crew = spark.read.csv('/content/drive/MyDrive/Audible/data/title.crew.tsv.gz', sep=r'\\t', header=True,inferSchema=True)\n",
        "df_episode = spark.read.csv('/content/drive/MyDrive/Audible/data/title.episode.tsv.gz', sep=r'\\t', header=True,inferSchema=True)\n",
        "df_principals = spark.read.csv('/content/drive/MyDrive/Audible/data/title.principals.tsv.gz', sep=r'\\t', header=True,inferSchema=True)\n",
        "#df_title_akas = spark.read.csv('/content/drive/MyDrive/Audible/data/title.akas.tsv.gz', sep=r'\\t', header=True,inferSchema=True)"
      ]
    },
    {
      "cell_type": "code",
      "execution_count": null,
      "metadata": {
        "colab": {
          "base_uri": "https://localhost:8080/"
        },
        "id": "OC9fj9X65-yV",
        "outputId": "f11fd856-10c7-4feb-c6b5-299f0981b34f"
      },
      "outputs": [
        {
          "output_type": "stream",
          "name": "stdout",
          "text": [
            "+---------+---------------+---------+---------+--------------------+--------------------+--------------------+--------------------+\n",
            "|   nconst|    primaryName|birthYear|deathYear|      knownForTitles|primaryProfession[0]|primaryProfession[1]|primaryProfession[2]|\n",
            "+---------+---------------+---------+---------+--------------------+--------------------+--------------------+--------------------+\n",
            "|nm0000001|   Fred Astaire|     1899|     1987|tt0053137,tt00319...|          soundtrack|               actor|       miscellaneous|\n",
            "|nm0000002|  Lauren Bacall|     1924|     2014|tt0071877,tt00383...|             actress|          soundtrack|                null|\n",
            "|nm0000003|Brigitte Bardot|     1934|       \\N|tt0057345,tt00564...|             actress|          soundtrack|    music_department|\n",
            "|nm0000004|   John Belushi|     1949|     1982|tt0072562,tt00804...|               actor|          soundtrack|              writer|\n",
            "|nm0000005| Ingmar Bergman|     1918|     2007|tt0069467,tt00608...|              writer|            director|               actor|\n",
            "+---------+---------------+---------+---------+--------------------+--------------------+--------------------+--------------------+\n",
            "only showing top 5 rows\n",
            "\n"
          ]
        }
      ],
      "source": [
        "prof_slc = df_name_basics.select('nconst','primaryName','birthYear','deathYear','knownForTitles',split('primaryProfession', ',').alias('primaryProfession'))\n",
        "df_name_basics_m = prof_slc.select('nconst','primaryName','birthYear','deathYear','knownForTitles',\n",
        "                                   *[prof_slc['primaryProfession'] [i] for i in range(3)])\n",
        "df_name_basics_m.show(5)"
      ]
    },
    {
      "cell_type": "markdown",
      "metadata": {
        "id": "YEL1Y9BBJG3j"
      },
      "source": [
        "For the **'title_basics'** table, I split the genre column, which stores the title's genre types, into three separate columns. Among all the titles, I found *drama, comedy, and talk-show* are the top three most common genres. During this take-home exercise, I assumed the order of genres listed for each title implies the descriptive power of this genre for this title. The first listed genre listed can better describe the title than the later genres.  Therefore, I only kept the first genres for the later one-hot encoding stage. But if time permits,  I will explore the model performance if we take in all genres listed for each title.  \n",
        "\n",
        "For this table, I fill in the missing values in the 'endYear' column using the 'startYear' column's value unless the startYear is in the future. This is assumed we have filled in the endYear column for every title if it exists. All the cells left empty under the endYear column are intended when the titles were only released in a single year instead of being multi-year TV series. Therefore I choose to set the missing values in the endYear column the same as the startYear if missing. \n",
        "\n",
        "I also calculate two new features to describe the title: 'period' and  'yearSinceStart', which capture the title's time duration between the start and the end as well as how old is the title (assuming we are standing in the year of 2022). \n",
        "\n",
        "\n"
      ]
    },
    {
      "cell_type": "code",
      "execution_count": null,
      "metadata": {
        "id": "8ZZBvC9D6c_B"
      },
      "outputs": [],
      "source": [
        "genre_slc = df_title_basics.select('tconst','titleType','primaryTitle','originalTitle','isAdult',\n",
        "                                  'startYear','endYear','runtimeMinutes',\n",
        "                                  split('genres', ',').alias('genres'))\n",
        "\n",
        "df_title_basics_m =  genre_slc.select('tconst','titleType','primaryTitle','originalTitle','isAdult',\n",
        "                                  'startYear','endYear','runtimeMinutes',\n",
        "                                   *[genre_slc ['genres'] [i] for i in range(3)])\\\n",
        "                                  .withColumn('startYear', col('startYear').cast(IntegerType()))\\\n",
        "                                  .withColumn('endYear', col('endYear').cast(IntegerType()))\\\n",
        "                                  .withColumn('period', col('endYear') - col('startYear'))\\\n",
        "                                  .withColumn('yearSinceStart', 2022 - col('startYear'))\\\n",
        "                                  .withColumn(\"endYear\", \\\n",
        "              when(( col('endYear').isNull()) & (col('startYear')< 2022) ,col('startYear')).otherwise( col('endYear')))\n"
      ]
    },
    {
      "cell_type": "code",
      "execution_count": null,
      "metadata": {
        "colab": {
          "base_uri": "https://localhost:8080/"
        },
        "id": "79lFOi4H8FAx",
        "outputId": "31a8ea39-18d9-49bd-c856-e4d1dcdf837a"
      },
      "outputs": [
        {
          "data": {
            "text/plain": [
              "[Row(genres=None, count=12328798),\n",
              " Row(genres='Drama', count=2435948),\n",
              " Row(genres='Comedy', count=1782102),\n",
              " Row(genres='Talk-Show', count=1029019),\n",
              " Row(genres='Short', count=987449),\n",
              " Row(genres='Documentary', count=823354),\n",
              " Row(genres='Romance', count=779000),\n",
              " Row(genres='News', count=771302),\n",
              " Row(genres='Family', count=634415),\n",
              " Row(genres='Reality-TV', count=469603)]"
            ]
          },
          "execution_count": 7,
          "metadata": {},
          "output_type": "execute_result"
        }
      ],
      "source": [
        "#count genres types across all three columns\n",
        "genre0_count = df_title_basics_m.groupby('genres[0]').count().withColumnRenamed('genres[0]','genres')\n",
        "genre1_count = df_title_basics_m.groupby('genres[1]').count().withColumnRenamed('genres[1]','genres')\n",
        "genre2_count = df_title_basics_m.groupby('genres[2]').count().withColumnRenamed('genres[0]','genres')\n",
        "all_genres = genre0_count.union(genre1_count).union(genre2_count).groupby('genres').sum('count').orderBy(desc('sum(count)')).withColumnRenamed('sum(count)', 'count').take(10)\n",
        "all_genres"
      ]
    },
    {
      "cell_type": "markdown",
      "source": [
        "After plotting out the distribution of titles' start years, I found the distribution has a long left tail and the majority of the titles are after 1950. Because our objective for this project is to predict the average rating for upcoming newly released titles (after 2022), older titles might be less insightful for our prediction.   I decided to cut off our training set's start year at 1950. "
      ],
      "metadata": {
        "id": "pt0njKp6ZJ4Y"
      }
    },
    {
      "cell_type": "code",
      "source": [
        "startYear_count = df_title_basics_m.groupby('startYear').count()\\\n",
        "                                    .select('startYear', col('count'))\\\n",
        "                                    .withColumn('dataset',when(col('startYear')>=2022,'test')\\\n",
        "                                    .when(col('startYear')<=2016,'train')\n",
        "                                    .otherwise('validation'))\\\n",
        "                                    .sort(asc('startYear'))\\\n",
        "                                    .withColumn('startYear', col('startYear').cast(StringType()))\n",
        "\n",
        "startYear_count = startYear_count.toPandas()"
      ],
      "metadata": {
        "id": "wtKwnXr4mhnT"
      },
      "execution_count": null,
      "outputs": []
    },
    {
      "cell_type": "code",
      "source": [
        "plt.figure(figsize = (20,8))\n",
        "plt.xticks(rotation=70)\n",
        "sns.barplot( x=startYear_count['startYear'],y=startYear_count['count'], hue=startYear_count['dataset'],data=startYear_count, palette = 'Set2')\\\n",
        "          .set(title = 'Distribution of Titles')"
      ],
      "metadata": {
        "id": "Pyfo6Mi1Bbek",
        "colab": {
          "base_uri": "https://localhost:8080/",
          "height": 477
        },
        "outputId": "e1ec7b18-15eb-4f18-bc26-f18d819c03f3"
      },
      "execution_count": null,
      "outputs": [
        {
          "output_type": "execute_result",
          "data": {
            "text/plain": [
              "[Text(0.5, 1.0, 'Distribution of Titles')]"
            ]
          },
          "metadata": {},
          "execution_count": 53
        },
        {
          "output_type": "display_data",
          "data": {
            "image/png": "[encoded data removed]",
            "text/plain": [
              "<Figure size 1440x576 with 1 Axes>"
            ]
          },
          "metadata": {
            "needs_background": "light"
          }
        }
      ]
    },
    {
      "cell_type": "markdown",
      "source": [
        " For the **crew** table, I split the title's directors and writers into separated columns. From the exploration analysis, I learned more than 75% of the titles only have one writer and one director listed. So I decided to only keep the first person listed for director and writer to avoid sparsity in the separated columns."
      ],
      "metadata": {
        "id": "NQTB8CRQoSUP"
      }
    },
    {
      "cell_type": "code",
      "execution_count": null,
      "metadata": {
        "id": "As22tVxI6pYl"
      },
      "outputs": [],
      "source": [
        "split_d =  split(df_crew.directors, ',',)\n",
        "split_w =  split(df_crew.writers, ',',)\n",
        "\n",
        "\n",
        "df_crew_m = df_crew.withColumn('director[0]', split_d.getItem(0))\\\n",
        "    .withColumn('writer[0]', split_w.getItem(0)).drop('directors','writers')  \n"
      ]
    },
    {
      "cell_type": "code",
      "execution_count": null,
      "metadata": {
        "id": "XHjP-Isk6txQ"
      },
      "outputs": [],
      "source": [
        "df_episode_m = df_episode.withColumn('seasonNumber', df_episode['seasonNumber'].cast(IntegerType())) \\\n",
        "                         .withColumn('episodeNumber', df_episode['episodeNumber'].cast(IntegerType()))\n",
        "                        "
      ]
    },
    {
      "cell_type": "markdown",
      "source": [
        "Due to the time and computation resource constrain, I decided not to include text-based features (e.g title name, crew name, etc.,) at this time. Instead, I try to use other features to represent the title and the production crew members. I come up with the following new features to serve the needs:\n",
        "\n",
        "**Categorical(binary) Features:**\n",
        "\n",
        "> Is the crew member participating in the production with his or her main profession? This column will be filled in as 0 if this is a title directed by an actor or is played by a writer. For the scope of scope of this project, I only focus on writers, actors and directors in the crew team.\n",
        "\n",
        "> Is this title in this crew member's 'known for titles' list?\n",
        "\n",
        "These two binary columns are first computed at the title-name level. Then I aggregated them to the title level by taking the average across all crew members for the given title.   \n",
        "\n",
        "**Continuous Features:**\n",
        "\n",
        "\n",
        "> For the lead director and the lead writer, how many titles have they participated in respectively? \n",
        "\n",
        "However, by looking at the summary statistcis, we can tell the experience level of the crew team is very widely spread and is skewed to the right. This intuitively makes sense given there different types of titles included in the IMDb's dataset. A long-lasting TV show's director will tend to have more experiences compared to a movie director based on our calculation. For future study, we could explore if we can assign different weights to different experience categories. For example, can we use models to learn weights of experience across different title types? Can we give higher weights for experienced directors practice directing under the same genre type? Can we standardize the experience counts for serries titles and non-serries titles?\n",
        "\n",
        "\n",
        "To comply with the prediction task of this project, all of the additional features mentioned above are computed based on the training data, which are titles released between 1950 and 2016.  Only titles fit in this time range are counted towards the production crew members' professional qualifications. I compute the features using the training set data and join them back to the full data for validation and test set to use.    \n",
        "\n",
        "\n",
        "\n",
        "\n"
      ],
      "metadata": {
        "id": "rwHFljLTffki"
      }
    },
    {
      "cell_type": "code",
      "execution_count": null,
      "metadata": {
        "id": "2mTrBPfaNNhu"
      },
      "outputs": [],
      "source": [
        "df_principals_m = df_principals.select('tconst','nconst','category')\\\n",
        "                                .filter(col('category').isin(['writer','director','actor']))"
      ]
    },
    {
      "cell_type": "code",
      "execution_count": null,
      "metadata": {
        "id": "MmEqLDTUW3Iz"
      },
      "outputs": [],
      "source": [
        "full_data = df_ratings.join(df_title_basics_m, ['tconst'], 'inner')\\\n",
        "  .join(df_crew_m, ['tconst'],'left')\\\n",
        "  .join(df_episode_m, ['tconst'],'left')\\\n",
        "  .join(df_principals_m, ['tconst'],'left')\n",
        "#join df_crew_m and df_principals_m to calculate # of experiences for directors and writers\n",
        "\n",
        "train_data = full_data.filter((col('startYear')<=2016) & (col('startYear')>= 1950))\n"
      ]
    },
    {
      "cell_type": "code",
      "execution_count": null,
      "metadata": {
        "colab": {
          "base_uri": "https://localhost:8080/"
        },
        "id": "X4ji103Wft8s",
        "outputId": "22d0cb12-071b-471e-fcb9-94f965ddd5aa"
      },
      "outputs": [
        {
          "output_type": "stream",
          "name": "stdout",
          "text": [
            "+---------+---------+----------+----------+\n",
            "|   nconst|   tconst|isKnownFor|isMainProf|\n",
            "+---------+---------+----------+----------+\n",
            "|nm0000004|tt0076816|         0|         1|\n",
            "|nm0000004|tt0077621|         0|         1|\n",
            "|nm0000004|tt0077975|         0|         1|\n",
            "|nm0000004|tt0078723|         0|         1|\n",
            "|nm0000004|tt0079660|         0|         1|\n",
            "+---------+---------+----------+----------+\n",
            "only showing top 5 rows\n",
            "\n"
          ]
        }
      ],
      "source": [
        "\n",
        "#count professionalism for the crew team(writer + director + actors)\n",
        "df_crewProf = df_principals_m.join(df_name_basics_m.select('nconst','knownForTitles','primaryProfession[0]'),                                   \n",
        "                                   ['nconst'],'inner')\n",
        "element_check = udf(lambda elt_list, elt: elt in elt_list)\n",
        "df_crewProf  = df_crewProf.withColumn(\"isKnownFor\",\n",
        "                                     (element_check(df_crewProf.knownForTitles, df_crewProf.nconst)))\\\n",
        "                          .withColumn(\"isMainProf\", (col(\"category\")==col(\"primaryProfession[0]\")).cast(IntegerType()))\\\n",
        "                          .withColumn('isKnownFor',when(col('isKnownFor') == 'false', 0).otherwise(1))\\\n",
        "                          .select('nconst','tconst','isKnownFor','isMainProf')\n",
        "df_crewProf.show(5)"
      ]
    },
    {
      "cell_type": "code",
      "execution_count": null,
      "metadata": {
        "colab": {
          "base_uri": "https://localhost:8080/"
        },
        "id": "M0x9a_Xf5L-r",
        "outputId": "79bcd293-4338-4508-e849-3ada58255f5c"
      },
      "outputs": [
        {
          "output_type": "stream",
          "name": "stdout",
          "text": [
            "+---------+----------+------------+\n",
            "|   nconst|writer_exp|director_exp|\n",
            "+---------+----------+------------+\n",
            "|nm1704102|         1|           0|\n",
            "|nm0524935|         5|           0|\n",
            "|nm0621185|         0|           4|\n",
            "|nm0465547|         0|           2|\n",
            "|nm0755137|         1|           0|\n",
            "+---------+----------+------------+\n",
            "only showing top 5 rows\n",
            "\n"
          ]
        }
      ],
      "source": [
        "experience_train = train_data.select('nconst','tconst', 'category').filter(col('category').isin(['writer','director']))\\\n",
        "       .groupBy('nconst','category')\\\n",
        "       .pivot(\n",
        "         'category',\n",
        "         ['writer','director']) .count().na.fill(0)\\\n",
        "         .select('nconst',col('writer').alias('writer_exp'), col('director').alias('director_exp'))\n",
        "experience_train.show(5)"
      ]
    },
    {
      "cell_type": "markdown",
      "source": [
        "To understand how writers' and directors' experiences are distributed, I calculated the summary statistics are below: "
      ],
      "metadata": {
        "id": "YYpOifD_x3GN"
      }
    },
    {
      "cell_type": "code",
      "source": [
        "experience_train.select('writer_exp').summary().show()"
      ],
      "metadata": {
        "colab": {
          "base_uri": "https://localhost:8080/"
        },
        "id": "AVNTQuh5v0zF",
        "outputId": "7e1837da-f5bd-47ca-9900-0ad329bb34ff"
      },
      "execution_count": null,
      "outputs": [
        {
          "output_type": "stream",
          "name": "stdout",
          "text": [
            "+-------+-----------------+\n",
            "|summary|       writer_exp|\n",
            "+-------+-----------------+\n",
            "|  count|           332495|\n",
            "|   mean|3.448866900254139|\n",
            "| stddev|22.57988242389982|\n",
            "|    min|                0|\n",
            "|    25%|                0|\n",
            "|    50%|                1|\n",
            "|    75%|                1|\n",
            "|    max|             2174|\n",
            "+-------+-----------------+\n",
            "\n"
          ]
        }
      ]
    },
    {
      "cell_type": "code",
      "source": [
        "experience_train.select('director_exp').summary().show()"
      ],
      "metadata": {
        "colab": {
          "base_uri": "https://localhost:8080/"
        },
        "id": "zj95HhXtxnM6",
        "outputId": "0359afb0-f1c5-4de3-a780-de1f5dedcaaa"
      },
      "execution_count": null,
      "outputs": [
        {
          "output_type": "stream",
          "name": "stdout",
          "text": [
            "+-------+------------------+\n",
            "|summary|      director_exp|\n",
            "+-------+------------------+\n",
            "|  count|            332495|\n",
            "|   mean|2.3820779259838494|\n",
            "| stddev|13.298538029099541|\n",
            "|    min|                 0|\n",
            "|    25%|                 0|\n",
            "|    50%|                 0|\n",
            "|    75%|                 1|\n",
            "|    max|              2610|\n",
            "+-------+------------------+\n",
            "\n"
          ]
        }
      ]
    },
    {
      "cell_type": "code",
      "execution_count": null,
      "metadata": {
        "colab": {
          "base_uri": "https://localhost:8080/"
        },
        "id": "APcniYiKNQJA",
        "outputId": "0455f29d-977d-47f2-da77-267725d71de9"
      },
      "outputs": [
        {
          "output_type": "stream",
          "name": "stdout",
          "text": [
            "+---------+-------------+--------+---------+-------+---------+-------+--------------+-----------+------+--------------+------------+-------------+---------+------------+----------+----------+----------+\n",
            "|   tconst|averageRating|numVotes|titleType|isAdult|startYear|endYear|runtimeMinutes|  genres[0]|period|yearSinceStart|seasonNumber|episodeNumber|isSerries|director_exp|writer_exp|isMainProf|isKnownFor|\n",
            "+---------+-------------+--------+---------+-------+---------+-------+--------------+-----------+------+--------------+------------+-------------+---------+------------+----------+----------+----------+\n",
            "|tt2798444|          7.8|       8|tvEpisode|      0|     1992|   1992|            59|Documentary|     0|            30|           1|            2|        1|           0|         0|         0|         0|\n",
            "|tt1484444|          7.1|     853|tvEpisode|      0|     2009|   2009|            51|  Biography|     0|            13|           1|            2|        1|           0|         0|         0|         0|\n",
            "|tt1188354|          5.9|       7|tvEpisode|      0|     2002|   2002|             0|  Adventure|     0|            20|           1|           11|        1|         240|         0|         3|         0|\n",
            "|tt0197123|          4.6|       9|  tvMovie|      0|     1985|   1985|            56|      Crime|     0|            37|           0|            0|        0|           0|         0|         5|         0|\n",
            "|tt0272138|          7.0|      19|    video|      1|     2000|   2000|           140|      Adult|     0|            22|           0|            0|        0|          43|         0|         5|         0|\n",
            "+---------+-------------+--------+---------+-------+---------+-------+--------------+-----------+------+--------------+------------+-------------+---------+------------+----------+----------+----------+\n",
            "only showing top 5 rows\n",
            "\n"
          ]
        }
      ],
      "source": [
        "#further clean-up the full data:\n",
        "full_data_m = full_data.withColumn('isAdult', col('isAdult').cast(IntegerType()))\\\n",
        "         .withColumn('runtimeMinutes', col('runtimeMinutes').cast(IntegerType()))\\\n",
        "         .withColumn(\"isSerries\", \\\n",
        "              when(full_data['parentTconst'].isNull(),0).otherwise(1))\\\n",
        "         .join(df_crewProf,['tconst','nconst'],'left')\n",
        "        \n",
        "full_data_m = full_data_m.alias('a').join(experience_train.drop('writer_exp').alias('b'),\n",
        "                               col('a.director[0]') == col('b.nconst'),'left')\\\n",
        "                               .drop('b.ncost','a.nconst')\\\n",
        "                          .join(experience_train.drop('director_exp').withColumnRenamed('writer_exp[0]', 'writer_exp')\\\n",
        "                          .alias('c'),\n",
        "                               col('a.writer[0]') == col('c.nconst'),\n",
        "                               'left').drop('c.nconst')\\\n",
        "                          .select('tconst','a.nconst','averageRating','numVotes','titleType','isAdult',\n",
        "                          'startYear','endYear','runtimeMinutes','genres[0]','period',\n",
        "                          'yearSinceStart','seasonNumber','episodeNumber','isSerries','isMainProf','isKnownFor',\n",
        "                          'director_exp','writer_exp')\\\n",
        "               .na.fill(0).groupby('tconst','averageRating','numVotes','titleType','isAdult',\n",
        "                          'startYear','endYear','runtimeMinutes','genres[0]','period',\n",
        "                          'yearSinceStart','seasonNumber','episodeNumber','isSerries',\n",
        "                          'director_exp','writer_exp'\n",
        "                          )\\\n",
        "                          .agg(sum('isMainProf').alias('isMainProf'),\\\n",
        "                               sum('isKnownFor').alias('isKnownFor')\n",
        "                               ).drop('nconst')\n",
        "full_data_m.show(5)\n"
      ]
    },
    {
      "cell_type": "markdown",
      "source": [
        "## **2. Modeling**\n",
        "\n",
        "For this exercise,  my goal is to predict average ratings for newly released titles' ratings given the titles' and production crew's characteristics. Therefore, I choose to split the training, validation, and testing set by the title's production time (start year).  After exploring the cut-off years on the title destruction chart shown in the earlier section, I decide to split 1950 to 2016's titles into the training set, 2016-2021's titles into the validation set and treat titles after 2022 as training data.Among all the data, the training set takes 75% of the data, the validation set takes 24% of the data, and the testing set takes 1% of the data. \n",
        "\n",
        "\n",
        "In the modeling part, I implement linear model, random forest regression tree, and gradient-boosted regression tree on the training data.   Among all three models, the random forest has the smallest RMSE value on the validation set and the linear model has the biggest RMSE value. For the random forest model, I tried models with different numbers of trees and found random forest with nTree = 50 has slightly better RMSE. If given enough computation resources and time, I would like to do hyperparameter tuning for the random forest and further improve its prediction power. \n",
        "\n",
        "I also tried the embedded model by taking the average of predicted results from different models. But the embedded model didn't outperform other models in terms of validation RMSE value.\n",
        "\n",
        "Based on the model performance on the validation set, I chose random forest with nTree = 50 to fit on the testing set (new titles after 2022) and achieve testing RMSE 1.45248. "
      ],
      "metadata": {
        "id": "ToYrELLdLPsG"
      }
    },
    {
      "cell_type": "code",
      "execution_count": null,
      "metadata": {
        "id": "qAt3EkuY6iuK"
      },
      "outputs": [],
      "source": [
        "train_data = full_data_m.filter((col('startYear')<=2016) & (col('startYear')>= 1950))\n",
        "val_data = full_data_m.filter((col('startYear')>2016)&(col('startYear')<= 2021))\n",
        "test_data = full_data_m.filter(col('startYear')>=2022)\n"
      ]
    },
    {
      "cell_type": "code",
      "source": [
        "full_data_m.select('tconst','startYear').withColumn('dataset',when(col('startYear')>=2022,'test')\\\n",
        "                                    .when((col('startYear')<=2016)&(col('startYear')>=1950),'train').otherwise('validation'))\\\n",
        "                                    .groupby('dataset').count().show()"
      ],
      "metadata": {
        "colab": {
          "base_uri": "https://localhost:8080/"
        },
        "id": "bAODTXNJJXhT",
        "outputId": "45518400-b921-4db5-dd53-056227928b46"
      },
      "execution_count": null,
      "outputs": [
        {
          "output_type": "stream",
          "name": "stdout",
          "text": [
            "+----------+------+\n",
            "|   dataset| count|\n",
            "+----------+------+\n",
            "|     train|914340|\n",
            "|validation|299561|\n",
            "|      test|  4287|\n",
            "+----------+------+\n",
            "\n"
          ]
        }
      ]
    },
    {
      "cell_type": "code",
      "execution_count": null,
      "metadata": {
        "id": "Fn-HbR3qHYZ0"
      },
      "outputs": [],
      "source": [
        "#fit one hot encoder to the categorical features(title types and genres)\n",
        "from pyspark.ml.feature import StringIndexer\n",
        "from pyspark.ml.feature import OneHotEncoder\n",
        "#title types\n",
        "title_indexer = StringIndexer(inputCol=\"titleType\", outputCol=\"titleTypeIndex\").setHandleInvalid(\"skip\")\n",
        "title_indexer_fited = title_indexer.fit(train_data)\n",
        "train_data = title_indexer_fited.transform(train_data )\n",
        "onehotencoder_title_vector = OneHotEncoder(inputCol=\"titleTypeIndex\", outputCol=\"titleTypeIndex_vec\")\n",
        "onehot_fited_titleType = onehotencoder_title_vector.fit(train_data)\n",
        "train_data = onehot_fited_titleType.transform(train_data)\n",
        "\n",
        "#fit the same string indexer to validation and test data\n",
        "val_data = title_indexer_fited.transform(val_data )\n",
        "val_data = onehot_fited_titleType.transform(val_data)\n",
        "test_data = title_indexer_fited.transform(test_data)\n",
        "test_data = onehot_fited_titleType.transform(test_data)\n",
        "\n",
        "#genres\n",
        "genre_indexer = StringIndexer(inputCol=\"genres[0]\", outputCol=\"genresIndex\").setHandleInvalid(\"skip\")\n",
        "genre_indexer_fited = genre_indexer.fit(train_data)\n",
        "train_data = genre_indexer_fited.transform(train_data )\n",
        "onehot_fited_genre = OneHotEncoder(inputCol=\"genresIndex\", outputCol=\"genresIndex_vec\").fit(train_data)\n",
        "train_data = onehot_fited_genre.transform(train_data)\n",
        "\n",
        "#fit the same string indexer to validation and test data\n",
        "val_data = genre_indexer_fited.transform(val_data )\n",
        "val_data = onehot_fited_genre.transform(val_data)\n",
        "test_data = genre_indexer_fited.transform(test_data)\n",
        "test_data = onehot_fited_genre.transform(test_data)\n",
        "\n"
      ]
    },
    {
      "cell_type": "code",
      "execution_count": null,
      "metadata": {
        "id": "pdAuzdzZOMYt"
      },
      "outputs": [],
      "source": [
        "from pyspark.ml.linalg import Vectors\n",
        "from pyspark.ml.feature import VectorAssembler\n",
        "assembler = VectorAssembler(inputCols=[\"numVotes\", \"isAdult\", \"startYear\", \"endYear\", \"runtimeMinutes\", \"period\", \"yearSinceStart\", \"seasonNumber\", \"episodeNumber\", \"isSerries\", \"isMainProf\", \"isKnownFor\",  \"director_exp\",\"writer_exp\", \"genresIndex_vec\", \"titleTypeIndex_vec\"],outputCol=\"features\")\n",
        "train_data_final = assembler.transform(train_data)\n",
        "# train_data_final.show(5)"
      ]
    },
    {
      "cell_type": "code",
      "execution_count": null,
      "metadata": {
        "id": "wDkjPCxAvsZT"
      },
      "outputs": [],
      "source": [
        "val_data_final = assembler.transform(val_data)\n",
        "test_data_final = assembler.transform(test_data)\n"
      ]
    },
    {
      "cell_type": "markdown",
      "source": [
        "Linear regression:"
      ],
      "metadata": {
        "id": "-L9GdCvjTbEQ"
      }
    },
    {
      "cell_type": "code",
      "execution_count": null,
      "metadata": {
        "id": "wgD1PgwrUdUw"
      },
      "outputs": [],
      "source": [
        "from pyspark.ml.regression import LinearRegression\n",
        "\n",
        "lr = LinearRegression(maxIter=10, featuresCol=\"features\", labelCol=\"averageRating\")\n",
        "lrModel = lr.fit(train_data_final)\n"
      ]
    },
    {
      "cell_type": "code",
      "execution_count": null,
      "metadata": {
        "id": "7iWERZCqyi_k",
        "colab": {
          "base_uri": "https://localhost:8080/"
        },
        "outputId": "92a04a96-fe10-4ede-c9be-494b9385fa68"
      },
      "outputs": [
        {
          "output_type": "stream",
          "name": "stdout",
          "text": [
            "RMSE: 1.251328\n",
            "r2: 0.180739\n"
          ]
        }
      ],
      "source": [
        "#evaluate how the linear model fits on the training data:\n",
        "trainingSummary = lrModel.summary\n",
        "print(\"Linear model's training RMSE: %f\" % trainingSummary.rootMeanSquaredError)\n",
        "print(\"Linear model's training r2: %f\" % trainingSummary.r2)"
      ]
    },
    {
      "cell_type": "code",
      "source": [
        "lrModel.coefficients"
      ],
      "metadata": {
        "id": "wQc7sA2jSdBa"
      },
      "execution_count": null,
      "outputs": []
    },
    {
      "cell_type": "code",
      "execution_count": null,
      "metadata": {
        "id": "sgvKH7NzxK7L"
      },
      "outputs": [],
      "source": [
        "lr_predict_val = lrModel.transform(val_data_final)\n",
        "#lr_predict_val.select(\"prediction\",\"averageRating\",\"features\").show(5)\n"
      ]
    },
    {
      "cell_type": "code",
      "execution_count": null,
      "metadata": {
        "id": "E5oIaGz_9FBB",
        "colab": {
          "base_uri": "https://localhost:8080/"
        },
        "outputId": "90cd6842-066d-4af8-b5d3-fb7e03c03236"
      },
      "outputs": [
        {
          "output_type": "stream",
          "name": "stdout",
          "text": [
            "Linear Regression RMSE on validation data = 1.33066\n"
          ]
        }
      ],
      "source": [
        "from pyspark.ml.evaluation import RegressionEvaluator\n",
        "evaluator_rmse = RegressionEvaluator(predictionCol=\"prediction\", \\\n",
        "                 labelCol=\"averageRating\",metricName=\"rmse\")\n",
        "print(\"Linear Regression RMSE on validation data = %g\" % evaluator_rmse.evaluate(lr_predict_val))"
      ]
    },
    {
      "cell_type": "markdown",
      "source": [
        "Random forest regression tree:"
      ],
      "metadata": {
        "id": "OtqJmKOGqBD3"
      }
    },
    {
      "cell_type": "code",
      "execution_count": null,
      "metadata": {
        "id": "FE6M6ZeYaN1F"
      },
      "outputs": [],
      "source": [
        "from pyspark.ml import Pipeline\n",
        "from pyspark.ml.regression import RandomForestRegressor\n",
        "# Train a RandomForest model with default # of trees (20)\n",
        "rf = RandomForestRegressor(featuresCol=\"features\", labelCol=\"averageRating\")\n",
        "RFmodel = rf.fit(train_data_final)\n"
      ]
    },
    {
      "cell_type": "code",
      "execution_count": null,
      "metadata": {
        "id": "nestO3i_8eU4",
        "colab": {
          "base_uri": "https://localhost:8080/"
        },
        "outputId": "af85bd18-e3a0-4eba-b346-16fbc79ebfc6"
      },
      "outputs": [
        {
          "output_type": "stream",
          "name": "stdout",
          "text": [
            "Randomforest RMSE on validation data = 1.30627\n"
          ]
        }
      ],
      "source": [
        "rf_predict_val = RFmodel.transform(val_data_final)\n",
        "print(\"Randomforest RMSE on validation data = %g\" % evaluator_rmse.evaluate(rf_predict_val))"
      ]
    },
    {
      "cell_type": "code",
      "execution_count": null,
      "metadata": {
        "id": "4ICuDfpiWj_p"
      },
      "outputs": [],
      "source": [
        "# Train a RandomForest model with default # of trees (50)\n",
        "rf_50 = RandomForestRegressor(featuresCol=\"features\", labelCol=\"averageRating\",numTrees=50)\n",
        "RFmodel_50 = rf_50.fit(train_data_final)\n",
        "rf_50_predict_val = RFmodel_50 .transform(val_data_final)\n"
      ]
    },
    {
      "cell_type": "code",
      "source": [
        "print(\"Randomforest(50 trees) RMSE on validation data = %g\" % evaluator_rmse.evaluate(rf_50_predict_val))"
      ],
      "metadata": {
        "colab": {
          "base_uri": "https://localhost:8080/"
        },
        "id": "eXqtgJkfYTnL",
        "outputId": "a411d454-475f-4615-a575-3cfa0fd9c8ba"
      },
      "execution_count": null,
      "outputs": [
        {
          "output_type": "stream",
          "name": "stdout",
          "text": [
            "Randomforest RMSE on validation data = 1.30523\n"
          ]
        }
      ]
    },
    {
      "cell_type": "code",
      "source": [
        "#get feature importance \n",
        "feature_df = pd.DataFrame( train_data_final.schema[\"features\"].metadata[\"ml_attr\"][\"attrs\"][\"binary\"]+\n",
        "               train_data_final.schema[\"features\"].metadata[\"ml_attr\"][\"attrs\"][\"numeric\"]).sort_values(\"idx\")\n",
        "\n",
        "feature_dict = dict(zip(feature_df[\"idx\"],feature_df[\"name\"])) \n",
        "\n",
        "feature_impt = [ (feature_dict[i], RFmodel_50.featureImportances[i]) for i, score in enumerate( RFmodel_50.featureImportances ) ]\n",
        "feature_impt.sort( key = lambda x: x[1], reverse=True )\n"
      ],
      "metadata": {
        "id": "qn83SFdO5sBF"
      },
      "execution_count": null,
      "outputs": []
    },
    {
      "cell_type": "code",
      "source": [
        "rf_50_predict_test = RFmodel_50 .transform(test_data_final)\n",
        "print(\"Randomforest RMSE on test data = %g\" % evaluator_rmse.evaluate(rf_50_predict_test))"
      ],
      "metadata": {
        "id": "8o_CE4K61aqY",
        "colab": {
          "base_uri": "https://localhost:8080/"
        },
        "outputId": "12ac665e-306f-4a69-b68b-952697ef9ae5"
      },
      "execution_count": null,
      "outputs": [
        {
          "output_type": "stream",
          "name": "stdout",
          "text": [
            "Randomforest RMSE on test data = 1.45248\n"
          ]
        }
      ]
    },
    {
      "cell_type": "markdown",
      "source": [
        "Gradient-boosted regression tree:"
      ],
      "metadata": {
        "id": "TmAKZKSyqQR9"
      }
    },
    {
      "cell_type": "code",
      "execution_count": null,
      "metadata": {
        "id": "IDXdrWikhgIR"
      },
      "outputs": [],
      "source": [
        "from pyspark.ml.regression import IsotonicRegression\n",
        "gb = IsotonicRegression(featuresCol=\"features\", labelCol=\"averageRating\")\n",
        "GBmodel = gb.fit(train_data_final)\n",
        "gb_predict_val = GBmodel.transform(val_data_final)\n"
      ]
    },
    {
      "cell_type": "code",
      "execution_count": null,
      "metadata": {
        "id": "nXJ0Ttv0wJ5y",
        "colab": {
          "base_uri": "https://localhost:8080/"
        },
        "outputId": "48dfe5d5-f1f5-43e7-8432-f3d538d565db"
      },
      "outputs": [
        {
          "output_type": "stream",
          "name": "stdout",
          "text": [
            "Gradient Boosting Model RMSE on validation data = 1.57145\n"
          ]
        }
      ],
      "source": [
        "print(\"Gradient Boosting Model RMSE on validation data = %g\" % evaluator_rmse.evaluate(gb_predict_val))"
      ]
    },
    {
      "cell_type": "markdown",
      "source": [
        "Ensembles of prediction models"
      ],
      "metadata": {
        "id": "-hbiHlmrqo6M"
      }
    },
    {
      "cell_type": "code",
      "execution_count": null,
      "metadata": {
        "id": "A2RL1BGCx95m"
      },
      "outputs": [],
      "source": [
        "#combine all three models together\n",
        "pred_combine = rf_predict_val.select(\"prediction\",\"averageRating\",\"tconst\").withColumnRenamed(\"prediction\",\"prediction_lm\").alias(\"lm\")\\\n",
        "                .join(rf_50_predict_val.select(\"prediction\",\"tconst\").withColumnRenamed(\"prediction\",\"prediction_rf\").alias(\"rf\"),['tconst'],'inner')\\\n",
        "                .join(gb_predict_val.select(\"prediction\",\"tconst\").withColumnRenamed(\"prediction\",\"prediction_gb\").alias(\"gb\"),['tconst'],'inner')\\\n",
        "                .withColumn(\"prediction_ensemble\",\\\n",
        "                           ((col(\"prediction_rf\")+col(\"prediction_gb\")+col(\"prediction_lm\"))/3))\\\n",
        "                .withColumn('difference', (col('prediction_ensemble') - col('averageRating')))\\\n",
        "                .withColumn('squared_difference', pow(col('difference'), lit(2).astype(IntegerType())))\n",
        "    \n",
        "pred_ensamble_result = pred_combine.select(avg(col('squared_difference')).alias('rmse'))\n",
        "\n"
      ]
    },
    {
      "cell_type": "code",
      "source": [
        "ensamble_rmse = pred_ensamble_result.withColumn('rmse',col('rmse').cast(StringType())).collect()[0][0]\n",
        "print(\"Ensamble Model's RMSE on validation data = \" + ensamble_rmse)"
      ],
      "metadata": {
        "colab": {
          "base_uri": "https://localhost:8080/"
        },
        "id": "8DqrB44Il15R",
        "outputId": "46c0cb48-c3cd-4999-dc8a-2c7e589fbc63"
      },
      "execution_count": null,
      "outputs": [
        {
          "output_type": "stream",
          "name": "stdout",
          "text": [
            "Ensamble Model's RMSE on validation data = 1.817107034689103\n"
          ]
        }
      ]
    },
    {
      "cell_type": "code",
      "execution_count": null,
      "metadata": {
        "id": "zWKs8qgFBPpo",
        "colab": {
          "base_uri": "https://localhost:8080/"
        },
        "outputId": "a273ddb4-fa4c-4a35-fc4c-f089706843ff"
      },
      "outputs": [
        {
          "output_type": "stream",
          "name": "stdout",
          "text": [
            "Ensamble Model (LR+RF) RMSE on validation data = 1.7128859149382427\n"
          ]
        }
      ],
      "source": [
        "#combine only the linear model and the random forest\n",
        "pred_combine_2model = rf_predict_val.select(\"prediction\",\"averageRating\",\"tconst\").withColumnRenamed(\"prediction\",\"prediction_lm\").alias(\"lm\")\\\n",
        "                .join(rf_50_predict_val.select(\"prediction\",\"tconst\").withColumnRenamed(\"prediction\",\"prediction_rf\").alias(\"rf\"),['tconst'],'inner')\\\n",
        "                .withColumn(\"prediction_ensemble\",\\\n",
        "                           ((col(\"prediction_rf\")+col(\"prediction_lm\"))/2))\\\n",
        "                .withColumn('difference', (col('prediction_ensemble') - col('averageRating')))\\\n",
        "                .withColumn('squared_difference', pow(col('difference'), lit(2).astype(IntegerType())))\n",
        "    \n",
        "pred_ensamble_2model_result = pred_combine_2model.select(avg(col('squared_difference')).alias('rmse'))\n",
        "ensamble_rmse_2model = pred_ensamble_2model_result.withColumn('rmse',col('rmse').cast(StringType())).collect()[0][0]\n",
        "print(\"Ensamble Model (LR+RF) RMSE on validation data = \" + ensamble_rmse_2model)"
      ]
    },
    {
      "cell_type": "markdown",
      "source": [
        "### **3. Key Takeaways from the Analysis** \n",
        "\n",
        "In this take-home exercise, I tried to predict the title's average rating based on the objective characteristics of the title. Among all the features, title types, whether or not the title is part of the series show and the season number are the top three features in terms of prediction power returned by the random forest. This finding aligns with my intuition that a long-lived TV series can prove its popularity will also be favored by its audiences. \n",
        "\n",
        "Another important feature is the title categories. It has relatively stronger prediction potential for predicting the ratings. In the boxplot as below, we can see the 'TV episodes' has the highest median and the highest 25th percentile, implying this type of title may be easier to attract higher ratings.  \n",
        "\n",
        "\n",
        "However, the current prediction model we have built still lacks prediction accuracy in terms of RMSE. Currently,  the features we have looked at are mainly objective characteristics. However,  the movie's rating can still be impacted by viewers' subjective opinions, which makes the prediction task harder. \n",
        "\n"
      ],
      "metadata": {
        "id": "YkfOgfgtO-FI"
      }
    },
    {
      "cell_type": "code",
      "source": [
        "feature_impt"
      ],
      "metadata": {
        "colab": {
          "base_uri": "https://localhost:8080/"
        },
        "id": "80vIdtl3we0N",
        "outputId": "830923a8-e756-4928-c503-9a2cd88b5224"
      },
      "execution_count": null,
      "outputs": [
        {
          "output_type": "execute_result",
          "data": {
            "text/plain": [
              "[('titleTypeIndex_vec_tvEpisode', 0.19396219365088782),\n",
              " ('isSerries', 0.17000375499141746),\n",
              " ('seasonNumber', 0.1616411233245187),\n",
              " ('runtimeMinutes', 0.1150423435084644),\n",
              " ('titleTypeIndex_vec_movie', 0.09874345625363368),\n",
              " ('numVotes', 0.06674857577326944),\n",
              " ('genresIndex_vec_Documentary', 0.04975279648006684),\n",
              " ('episodeNumber', 0.02949227064065644),\n",
              " ('genresIndex_vec_Horror', 0.023916823444211685),\n",
              " ('isMainProf', 0.020397679528800082),\n",
              " ('writer_exp', 0.00904701501185535),\n",
              " ('startYear', 0.009021624735654725),\n",
              " ('yearSinceStart', 0.007521213859232455),\n",
              " ('titleTypeIndex_vec_tvSeries', 0.0061495326546987),\n",
              " ('titleTypeIndex_vec_short', 0.006130688886538877),\n",
              " ('genresIndex_vec_Game-Show', 0.004484363669657828),\n",
              " ('endYear', 0.004407425003511137),\n",
              " ('genresIndex_vec_Drama', 0.0034140336187145053),\n",
              " ('titleTypeIndex_vec_video', 0.003331393292806315),\n",
              " ('genresIndex_vec_Reality-TV', 0.002396348473674179),\n",
              " ('director_exp', 0.002351104984418445),\n",
              " ('genresIndex_vec_News', 0.0022932290755658313),\n",
              " ('genresIndex_vec_Biography', 0.0022715610135647215),\n",
              " ('genresIndex_vec_Action', 0.0016593137799960662),\n",
              " ('period', 0.0014602090158790514),\n",
              " ('titleTypeIndex_vec_videoGame', 0.0014282218926485609),\n",
              " ('titleTypeIndex_vec_tvMovie', 0.0009619112192246686),\n",
              " ('genresIndex_vec_Adventure', 0.0004891028498272247),\n",
              " ('genresIndex_vec_Comedy', 0.00035173399874391544),\n",
              " ('titleTypeIndex_vec_tvMiniSeries', 0.0002630787303697789),\n",
              " ('isAdult', 0.00023406247731891285),\n",
              " ('genresIndex_vec_Talk-Show', 0.0001645379470189248),\n",
              " ('genresIndex_vec_Thriller', 9.572847368202582e-05),\n",
              " ('genresIndex_vec_\\\\N', 8.035136850587722e-05),\n",
              " ('genresIndex_vec_Animation', 7.420695602331649e-05),\n",
              " ('titleTypeIndex_vec_tvSpecial', 7.413654372066003e-05),\n",
              " ('genresIndex_vec_Crime', 7.210762284914503e-05),\n",
              " ('genresIndex_vec_Adult', 4.09106119013114e-05),\n",
              " ('genresIndex_vec_Western', 1.4763339331270974e-05),\n",
              " ('genresIndex_vec_Sci-Fi', 7.4729594010533985e-06),\n",
              " ('genresIndex_vec_Family', 6.037609339374668e-06),\n",
              " ('genresIndex_vec_Mystery', 1.5607283992381293e-06),\n",
              " ('isKnownFor', 0.0),\n",
              " ('genresIndex_vec_Short', 0.0),\n",
              " ('genresIndex_vec_Music', 0.0),\n",
              " ('genresIndex_vec_Fantasy', 0.0),\n",
              " ('genresIndex_vec_Romance', 0.0),\n",
              " ('genresIndex_vec_Sport', 0.0),\n",
              " ('genresIndex_vec_History', 0.0),\n",
              " ('genresIndex_vec_Musical', 0.0),\n",
              " ('genresIndex_vec_War', 0.0)]"
            ]
          },
          "metadata": {},
          "execution_count": 75
        }
      ]
    },
    {
      "cell_type": "code",
      "execution_count": null,
      "metadata": {
        "colab": {
          "base_uri": "https://localhost:8080/",
          "height": 571
        },
        "id": "hXAlPYNf2RjT",
        "outputId": "75dfceaf-0eb8-4fa0-d5ec-4641f0f07357"
      },
      "outputs": [
        {
          "output_type": "execute_result",
          "data": {
            "text/plain": [
              "[Text(0.5, 1.0, 'Title Categories VS Ratings')]"
            ]
          },
          "metadata": {},
          "execution_count": 15
        },
        {
          "output_type": "display_data",
          "data": {
            "image/png": "[encoded data removed]",
            "text/plain": [
              "<Figure size 1080x576 with 1 Axes>"
            ]
          },
          "metadata": {
            "needs_background": "light"
          }
        }
      ],
      "source": [
        "\n",
        "plt.figure(figsize = (15,8))\n",
        "plt.xticks(rotation=45)\n",
        "\n",
        "sns.boxplot(data = train_data.select('averageRating','titleType').toPandas(),                                    \n",
        "                                     y = 'averageRating', x = 'titleType', linewidth = 2.5 , palette = 'Set2', showfliers=False).set(title='Title Categories VS Ratings')\n",
        "\n"
      ]
    },
    {
      "cell_type": "markdown",
      "source": [
        "## **4. Future Plan of Actions**\n",
        "\n",
        "While doing this take-home exercise, my intuitions about IMDb ratings got tested and new ideas were generated. Due to the limited time and computation resources I have, I cannot try out all the ideas I have in mind to predict average ratings. \n",
        "\n",
        "Here are some ideas worth trying if I would like to come back to improve this prediction exercise:\n",
        "\n",
        "\n",
        "\n",
        "> 0. Perform more EDA to gather more insights and come up more feature ideas. Due to the big size of IMDb data and the slow response rate of the plotting functions, I couldn't do more visual analysis on the data and reveal the data relationships. \n",
        "\n",
        "\n",
        "> 1. Explore if we can find ways to standardize writers' and directors' experiences and make it a better feature in the prediction model. \n",
        "\n",
        "\n",
        "\n",
        "> 2. Try unsupervised learning methods on the movie genres. Maybe we can reduce the number of categories generated for the title genres by classifying genres into broader types. Therefore we can reduce the data sparsity after doing the one-hot encoding. \n",
        "\n",
        "\n",
        "\n",
        "> 3. Instead of training on the full historical data, we could try building submodels for subgroups of titles. The prediction can be made based on 'similar' historical titles. This requires us to explore how we can better measure similarities among titles. \n",
        "\n",
        "\n",
        "\n",
        "> 4. Explore text features (E.g: title names, crew member names) by using NLP techniques. \n",
        "\n",
        "\n",
        "\n",
        "\n",
        "\n",
        "\n",
        "\n",
        "\n",
        "\n"
      ],
      "metadata": {
        "id": "o04XcagPDkSa"
      }
    }
  ],
  "metadata": {
    "colab": {
      "collapsed_sections": [],
      "name": " IMDb Datasets Analytics: can we predict rating for a new movie? .ipynb",
      "provenance": []
    },
    "kernelspec": {
      "display_name": "Python 3",
      "name": "python3"
    },
    "language_info": {
      "name": "python"
    }
  },
  "nbformat": 4,
  "nbformat_minor": 0
}